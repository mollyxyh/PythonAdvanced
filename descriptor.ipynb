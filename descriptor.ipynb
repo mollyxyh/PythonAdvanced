{
 "cells": [
  {
   "cell_type": "markdown",
   "metadata": {},
   "source": [
    "### outline\n",
    "\n",
    "- Descriptors are the machanism behind properties\n",
    "- properties without descriptors\n",
    "- custom descriptors\n",
    "- data descriptors\n",
    "- non-data descriptors\n",
    "- attribute lookup"
   ]
  },
  {
   "cell_type": "code",
   "execution_count": 1,
   "metadata": {},
   "outputs": [],
   "source": [
    "class Planet:\n",
    "    def __init__(self, name, radius_meters, mass_kilograms, orbital_period_seconds, surface_temperature_kelvin):\n",
    "        self.name = name\n",
    "        self.radius_meters = radius_meters\n",
    "        self.mass_kilograms = mass_kilograms\n",
    "        self.orbital_period_seconds = orbital_period_seconds\n",
    "        self.surface_temperature_kelvin = surface_temperature_kelvin"
   ]
  },
  {
   "cell_type": "code",
   "execution_count": 2,
   "metadata": {},
   "outputs": [],
   "source": [
    "pluto = Planet(name='Pluto', radius_meters=1184e3, mass_kilograms=1.305e22, orbital_period_seconds=7816012992, surface_temperature_kelvin=55)"
   ]
  },
  {
   "cell_type": "markdown",
   "metadata": {},
   "source": [
    "drawbacks: the amount of codes is explosive"
   ]
  },
  {
   "cell_type": "code",
   "execution_count": 3,
   "metadata": {},
   "outputs": [],
   "source": [
    "class Planet:\n",
    "    def __init__(self, name, radius_meters, mass_kilograms, orbital_period_seconds, surface_temperature_kelvin):\n",
    "        self.name = name\n",
    "        self.radius_meters = radius_meters\n",
    "        self.mass_kilograms = mass_kilograms\n",
    "        self.orbital_period_seconds = orbital_period_seconds\n",
    "        self.surface_temperature_kelvin = surface_temperature_kelvin\n",
    "    \n",
    "    @property\n",
    "    def name(self):\n",
    "        return self._name\n",
    "    \n",
    "    @name.setter\n",
    "    def name(self, val):\n",
    "        if not val:\n",
    "            raise ValueError(\"Cannot set an empty planet name!\")\n",
    "        self._name = val\n",
    "        \n",
    "    @property\n",
    "    def radius_meters(self):\n",
    "        return self._radius_meters\n",
    "    \n",
    "    @radius_meters.setter\n",
    "    def radius_meters(self, val):\n",
    "        if val <= 0:\n",
    "            raise ValueError(\"Radius_meters value {} must be positive!\".format(val))\n",
    "        self._radius_meters = val"
   ]
  },
  {
   "cell_type": "markdown",
   "metadata": {},
   "source": [
    "### Properties are descriptors"
   ]
  },
  {
   "cell_type": "code",
   "execution_count": 4,
   "metadata": {},
   "outputs": [],
   "source": [
    "class Planet:\n",
    "    def __init__(self, name, radius_meters, mass_kilograms, orbital_period_seconds, surface_temperature_kelvin):\n",
    "        self.name = name\n",
    "        self.radius_meters = radius_meters\n",
    "        self.mass_kilograms = mass_kilograms\n",
    "        self.orbital_period_seconds = orbital_period_seconds\n",
    "        self.surface_temperature_kelvin = surface_temperature_kelvin\n",
    "    \n",
    "\n",
    "    def _get_name(self):\n",
    "        return self._name\n",
    "    \n",
    "    def _set_name(self, val):\n",
    "        if not val:\n",
    "            raise ValueError(\"Cannot set an empty planet name!\")\n",
    "        self._name = val\n",
    "    \n",
    "    name = property(fget=_get_name, fset=_set_name)\n",
    "    \n",
    "    def _get_radius_meters(self):\n",
    "        return self._radius_meters\n",
    "    \n",
    "    def _set_radius_meters(self, val):\n",
    "        if val <= 0:\n",
    "            raise ValueError(\"Radius_meters value {} must be positive!\".format(val))\n",
    "        self._radius_meters = val\n",
    "    \n",
    "    radius_meters = property(fget=_get_radius_meters, fset=_set_radius_meters)"
   ]
  },
  {
   "cell_type": "code",
   "execution_count": 5,
   "metadata": {},
   "outputs": [],
   "source": [
    "pluto = Planet(name='Pluto', radius_meters=1184e3, mass_kilograms=1.305e22, orbital_period_seconds=7816012992, surface_temperature_kelvin=55)"
   ]
  },
  {
   "cell_type": "code",
   "execution_count": 6,
   "metadata": {},
   "outputs": [
    {
     "name": "stdout",
     "output_type": "stream",
     "text": [
      "1184000.0\n"
     ]
    },
    {
     "ename": "ValueError",
     "evalue": "Radius_meters value -50 must be positive!",
     "output_type": "error",
     "traceback": [
      "\u001b[1;31m---------------------------------------------------------------------------\u001b[0m",
      "\u001b[1;31mValueError\u001b[0m                                Traceback (most recent call last)",
      "\u001b[1;32m<ipython-input-6-f8a182ee3d25>\u001b[0m in \u001b[0;36m<module>\u001b[1;34m\u001b[0m\n\u001b[0;32m      1\u001b[0m \u001b[0mprint\u001b[0m\u001b[1;33m(\u001b[0m\u001b[0mpluto\u001b[0m\u001b[1;33m.\u001b[0m\u001b[0mradius_meters\u001b[0m\u001b[1;33m)\u001b[0m\u001b[1;33m\u001b[0m\u001b[1;33m\u001b[0m\u001b[0m\n\u001b[0;32m      2\u001b[0m \u001b[1;33m\u001b[0m\u001b[0m\n\u001b[1;32m----> 3\u001b[1;33m \u001b[0mpluto\u001b[0m\u001b[1;33m.\u001b[0m\u001b[0mradius_meters\u001b[0m \u001b[1;33m=\u001b[0m \u001b[1;33m-\u001b[0m\u001b[1;36m50\u001b[0m\u001b[1;33m\u001b[0m\u001b[1;33m\u001b[0m\u001b[0m\n\u001b[0m",
      "\u001b[1;32m<ipython-input-4-288efad4b10f>\u001b[0m in \u001b[0;36m_set_radius_meters\u001b[1;34m(self, val)\u001b[0m\n\u001b[0;32m     23\u001b[0m     \u001b[1;32mdef\u001b[0m \u001b[0m_set_radius_meters\u001b[0m\u001b[1;33m(\u001b[0m\u001b[0mself\u001b[0m\u001b[1;33m,\u001b[0m \u001b[0mval\u001b[0m\u001b[1;33m)\u001b[0m\u001b[1;33m:\u001b[0m\u001b[1;33m\u001b[0m\u001b[1;33m\u001b[0m\u001b[0m\n\u001b[0;32m     24\u001b[0m         \u001b[1;32mif\u001b[0m \u001b[0mval\u001b[0m \u001b[1;33m<=\u001b[0m \u001b[1;36m0\u001b[0m\u001b[1;33m:\u001b[0m\u001b[1;33m\u001b[0m\u001b[1;33m\u001b[0m\u001b[0m\n\u001b[1;32m---> 25\u001b[1;33m             \u001b[1;32mraise\u001b[0m \u001b[0mValueError\u001b[0m\u001b[1;33m(\u001b[0m\u001b[1;34m\"Radius_meters value {} must be positive!\"\u001b[0m\u001b[1;33m.\u001b[0m\u001b[0mformat\u001b[0m\u001b[1;33m(\u001b[0m\u001b[0mval\u001b[0m\u001b[1;33m)\u001b[0m\u001b[1;33m)\u001b[0m\u001b[1;33m\u001b[0m\u001b[1;33m\u001b[0m\u001b[0m\n\u001b[0m\u001b[0;32m     26\u001b[0m         \u001b[0mself\u001b[0m\u001b[1;33m.\u001b[0m\u001b[0m_radius_meters\u001b[0m \u001b[1;33m=\u001b[0m \u001b[0mval\u001b[0m\u001b[1;33m\u001b[0m\u001b[1;33m\u001b[0m\u001b[0m\n\u001b[0;32m     27\u001b[0m \u001b[1;33m\u001b[0m\u001b[0m\n",
      "\u001b[1;31mValueError\u001b[0m: Radius_meters value -50 must be positive!"
     ]
    }
   ],
   "source": [
    "print(pluto.radius_meters)\n",
    "\n",
    "pluto.radius_meters = -50"
   ]
  },
  {
   "cell_type": "markdown",
   "metadata": {},
   "source": [
    "### Implement a descriptor"
   ]
  },
  {
   "cell_type": "code",
   "execution_count": 7,
   "metadata": {},
   "outputs": [],
   "source": [
    "from weakref import WeakKeyDictionary\n",
    "\n",
    "class Positive:\n",
    "    def __init__(self):\n",
    "        self._instance_data = WeakKeyDictionary()\n",
    "        \n",
    "    def __get__(self, instance, owner):\n",
    "        return self._instance_data[instance]\n",
    "\n",
    "    def __set__(self, instance, value):\n",
    "        if value <= 0:\n",
    "            raise ValueError(\"Value {} is not positive!\".format(value))\n",
    "        self._instance_data[instance] = value    \n",
    "    \n",
    "    def __del__(self, instance):\n",
    "        raise AttributeError(\"Cannot delete attribute!\")"
   ]
  },
  {
   "cell_type": "code",
   "execution_count": 8,
   "metadata": {},
   "outputs": [],
   "source": [
    "class Planet:\n",
    "    def __init__(self, name, radius_meters, mass_kilograms, orbital_period_seconds, surface_temperature_kelvin):\n",
    "        self.name = name\n",
    "        self.radius_meters = radius_meters\n",
    "        self.mass_kilograms = mass_kilograms\n",
    "        self.orbital_period_seconds = orbital_period_seconds\n",
    "        self.surface_temperature_kelvin = surface_temperature_kelvin\n",
    "    \n",
    "\n",
    "    def _get_name(self):\n",
    "        return self._name\n",
    "    \n",
    "    def _set_name(self, val):\n",
    "        if not val:\n",
    "            raise ValueError(\"Cannot set an empty planet name!\")\n",
    "        self._name = val\n",
    "    \n",
    "    name = property(fget=_get_name, fset=_set_name)\n",
    "    \n",
    "    radius_meters = Positive()"
   ]
  },
  {
   "cell_type": "code",
   "execution_count": 9,
   "metadata": {},
   "outputs": [],
   "source": [
    "pluto = Planet(name='Pluto', radius_meters=1184e3, mass_kilograms=1.305e22, orbital_period_seconds=7816012992, surface_temperature_kelvin=55)"
   ]
  },
  {
   "cell_type": "code",
   "execution_count": 10,
   "metadata": {},
   "outputs": [
    {
     "name": "stdout",
     "output_type": "stream",
     "text": [
      "1184000.0\n"
     ]
    },
    {
     "ename": "ValueError",
     "evalue": "Value -50 is not positive!",
     "output_type": "error",
     "traceback": [
      "\u001b[1;31m---------------------------------------------------------------------------\u001b[0m",
      "\u001b[1;31mValueError\u001b[0m                                Traceback (most recent call last)",
      "\u001b[1;32m<ipython-input-10-f8a182ee3d25>\u001b[0m in \u001b[0;36m<module>\u001b[1;34m\u001b[0m\n\u001b[0;32m      1\u001b[0m \u001b[0mprint\u001b[0m\u001b[1;33m(\u001b[0m\u001b[0mpluto\u001b[0m\u001b[1;33m.\u001b[0m\u001b[0mradius_meters\u001b[0m\u001b[1;33m)\u001b[0m\u001b[1;33m\u001b[0m\u001b[1;33m\u001b[0m\u001b[0m\n\u001b[0;32m      2\u001b[0m \u001b[1;33m\u001b[0m\u001b[0m\n\u001b[1;32m----> 3\u001b[1;33m \u001b[0mpluto\u001b[0m\u001b[1;33m.\u001b[0m\u001b[0mradius_meters\u001b[0m \u001b[1;33m=\u001b[0m \u001b[1;33m-\u001b[0m\u001b[1;36m50\u001b[0m\u001b[1;33m\u001b[0m\u001b[1;33m\u001b[0m\u001b[0m\n\u001b[0m",
      "\u001b[1;32m<ipython-input-7-5d94e43b4fdc>\u001b[0m in \u001b[0;36m__set__\u001b[1;34m(self, instance, value)\u001b[0m\n\u001b[0;32m     10\u001b[0m     \u001b[1;32mdef\u001b[0m \u001b[0m__set__\u001b[0m\u001b[1;33m(\u001b[0m\u001b[0mself\u001b[0m\u001b[1;33m,\u001b[0m \u001b[0minstance\u001b[0m\u001b[1;33m,\u001b[0m \u001b[0mvalue\u001b[0m\u001b[1;33m)\u001b[0m\u001b[1;33m:\u001b[0m\u001b[1;33m\u001b[0m\u001b[1;33m\u001b[0m\u001b[0m\n\u001b[0;32m     11\u001b[0m         \u001b[1;32mif\u001b[0m \u001b[0mvalue\u001b[0m \u001b[1;33m<=\u001b[0m \u001b[1;36m0\u001b[0m\u001b[1;33m:\u001b[0m\u001b[1;33m\u001b[0m\u001b[1;33m\u001b[0m\u001b[0m\n\u001b[1;32m---> 12\u001b[1;33m             \u001b[1;32mraise\u001b[0m \u001b[0mValueError\u001b[0m\u001b[1;33m(\u001b[0m\u001b[1;34m\"Value {} is not positive!\"\u001b[0m\u001b[1;33m.\u001b[0m\u001b[0mformat\u001b[0m\u001b[1;33m(\u001b[0m\u001b[0mvalue\u001b[0m\u001b[1;33m)\u001b[0m\u001b[1;33m)\u001b[0m\u001b[1;33m\u001b[0m\u001b[1;33m\u001b[0m\u001b[0m\n\u001b[0m\u001b[0;32m     13\u001b[0m         \u001b[0mself\u001b[0m\u001b[1;33m.\u001b[0m\u001b[0m_instance_data\u001b[0m\u001b[1;33m[\u001b[0m\u001b[0minstance\u001b[0m\u001b[1;33m]\u001b[0m \u001b[1;33m=\u001b[0m \u001b[0mvalue\u001b[0m\u001b[1;33m\u001b[0m\u001b[1;33m\u001b[0m\u001b[0m\n\u001b[0;32m     14\u001b[0m \u001b[1;33m\u001b[0m\u001b[0m\n",
      "\u001b[1;31mValueError\u001b[0m: Value -50 is not positive!"
     ]
    }
   ],
   "source": [
    "print(pluto.radius_meters)\n",
    "\n",
    "pluto.radius_meters = -50"
   ]
  },
  {
   "cell_type": "markdown",
   "metadata": {},
   "source": [
    "### Call descriptors from class"
   ]
  },
  {
   "cell_type": "code",
   "execution_count": 11,
   "metadata": {},
   "outputs": [],
   "source": [
    "from weakref import WeakKeyDictionary\n",
    "\n",
    "class Positive:\n",
    "    def __init__(self):\n",
    "        self._instance_data = WeakKeyDictionary()\n",
    "        \n",
    "    def __get__(self, instance, owner):\n",
    "        if instance is None:\n",
    "            return self\n",
    "        return self._instance_data[instance]\n",
    "\n",
    "    def __set__(self, instance, value):\n",
    "        if value <= 0:\n",
    "            raise ValueError(\"Value {} is not positive!\".format(value))\n",
    "        self._instance_data[instance] = value    \n",
    "    \n",
    "    def __del__(self, instance):\n",
    "        raise AttributeError(\"Cannot delete attribute!\")"
   ]
  },
  {
   "cell_type": "code",
   "execution_count": 12,
   "metadata": {},
   "outputs": [],
   "source": [
    "class Planet:\n",
    "    def __init__(self, name, radius_meters, mass_kilograms, orbital_period_seconds, surface_temperature_kelvin):\n",
    "        self.name = name\n",
    "        self.radius_meters = radius_meters\n",
    "        self.mass_kilograms = mass_kilograms\n",
    "        self.orbital_period_seconds = orbital_period_seconds\n",
    "        self.surface_temperature_kelvin = surface_temperature_kelvin\n",
    "    \n",
    "\n",
    "    def _get_name(self):\n",
    "        return self._name\n",
    "    \n",
    "    def _set_name(self, val):\n",
    "        if not val:\n",
    "            raise ValueError(\"Cannot set an empty planet name!\")\n",
    "        self._name = val\n",
    "    \n",
    "    name = property(fget=_get_name, fset=_set_name)\n",
    "    \n",
    "    radius_meters = Positive()"
   ]
  },
  {
   "cell_type": "code",
   "execution_count": 13,
   "metadata": {},
   "outputs": [
    {
     "data": {
      "text/plain": [
       "<__main__.Positive at 0x20f729f80c8>"
      ]
     },
     "execution_count": 13,
     "metadata": {},
     "output_type": "execute_result"
    }
   ],
   "source": [
    "Planet.radius_meters"
   ]
  },
  {
   "cell_type": "markdown",
   "metadata": {},
   "source": [
    "### class of descriptors\n",
    "\n",
    "- Non-data descriptors define only \\__get\\__(); \\__set\\__() and \\__del\\__() are not defined\n",
    "- Data descriptors support  \\__get\\__() and \\__set\\__() and are writable\n",
    "\n",
    "**Attribute lookup precedence**\n",
    "- If an instance \\__dict\\__ has an entry of the same name as a data descriptor, the data descriptor takes precedence\n",
    "- If an instance \\__dict\\__ has an entry of the same name as a non-data descriptor, the \\__dict\\__ takes precedence"
   ]
  },
  {
   "cell_type": "code",
   "execution_count": 14,
   "metadata": {},
   "outputs": [],
   "source": [
    "class DataDescriptor:\n",
    "    def __get__(self, instance, owner):\n",
    "        print(\"DataDescriptor.__get__({!r}, {!r}, {!r})\".format(self, instance, owner))\n",
    "    def __set__(self, instance, value):\n",
    "        print(\"DataDescriptor.__set__({!r}, {!r}, {!r})\".format(self, instance, value))\n",
    "        \n",
    "class NonDataDescriptor:\n",
    "    def __get__(self, instance, owner):\n",
    "        print(\"NonDataDescriptor.__get__({!r}, {!r}, {!r})\".format(self, instance, owner))\n",
    "        \n",
    "class Owner:\n",
    "    \n",
    "    a = DataDescriptor()\n",
    "    b = NonDataDescriptor()"
   ]
  },
  {
   "cell_type": "code",
   "execution_count": 15,
   "metadata": {},
   "outputs": [
    {
     "name": "stdout",
     "output_type": "stream",
     "text": [
      "DataDescriptor.__get__(<__main__.DataDescriptor object at 0x0000020F72A05648>, <__main__.Owner object at 0x0000020F72A05208>, <class '__main__.Owner'>)\n"
     ]
    }
   ],
   "source": [
    "obj = Owner()\n",
    "obj.a"
   ]
  },
  {
   "cell_type": "code",
   "execution_count": 16,
   "metadata": {},
   "outputs": [
    {
     "name": "stdout",
     "output_type": "stream",
     "text": [
      "DataDescriptor.__get__(<__main__.DataDescriptor object at 0x0000020F72A05648>, <__main__.Owner object at 0x0000020F72A05208>, <class '__main__.Owner'>)\n"
     ]
    }
   ],
   "source": [
    "obj.__dict__['a'] = 196883\n",
    "obj.a"
   ]
  },
  {
   "cell_type": "code",
   "execution_count": 17,
   "metadata": {},
   "outputs": [
    {
     "name": "stdout",
     "output_type": "stream",
     "text": [
      "NonDataDescriptor.__get__(<__main__.NonDataDescriptor object at 0x0000020F72A05848>, <__main__.Owner object at 0x0000020F72A05208>, <class '__main__.Owner'>)\n"
     ]
    }
   ],
   "source": [
    "obj.b"
   ]
  },
  {
   "cell_type": "code",
   "execution_count": 18,
   "metadata": {},
   "outputs": [
    {
     "data": {
      "text/plain": [
       "740"
      ]
     },
     "execution_count": 18,
     "metadata": {},
     "output_type": "execute_result"
    }
   ],
   "source": [
    "obj.__dict__['b'] = 740\n",
    "obj.b"
   ]
  }
 ],
 "metadata": {
  "kernelspec": {
   "display_name": "Python 3",
   "language": "python",
   "name": "python3"
  },
  "language_info": {
   "codemirror_mode": {
    "name": "ipython",
    "version": 3
   },
   "file_extension": ".py",
   "mimetype": "text/x-python",
   "name": "python",
   "nbconvert_exporter": "python",
   "pygments_lexer": "ipython3",
   "version": "3.7.4"
  }
 },
 "nbformat": 4,
 "nbformat_minor": 2
}
