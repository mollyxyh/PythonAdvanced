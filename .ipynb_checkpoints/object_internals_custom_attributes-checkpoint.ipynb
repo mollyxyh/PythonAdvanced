{
 "cells": [
  {
   "cell_type": "markdown",
   "metadata": {},
   "source": [
    "- Instance attributes stored in \\__dict\\__\n",
    "- \\__dict\\__ can be manipulated directly\n",
    "- fallback lookup with \\__getattr\\__\n",
    "- attribute assignment with \\__setattr\\__\n",
    "- attribute deletion with \\__delattr\\__\n",
    "- hasattr() built in calls \\__getattr\\__"
   ]
  },
  {
   "cell_type": "code",
   "execution_count": 4,
   "metadata": {},
   "outputs": [],
   "source": [
    "class Vector:\n",
    "    def __init__(self, x, y):\n",
    "        self.x = x\n",
    "        self.y = y\n",
    "    \n",
    "    def __repr__(self):\n",
    "        return '{}({}, {})'.format((self.__class__.__name__), self.x, self.y)"
   ]
  },
  {
   "cell_type": "code",
   "execution_count": 10,
   "metadata": {},
   "outputs": [
    {
     "data": {
      "text/plain": [
       "Vector(5, 3)"
      ]
     },
     "execution_count": 10,
     "metadata": {},
     "output_type": "execute_result"
    }
   ],
   "source": [
    "v = Vector(5, 3)\n",
    "v"
   ]
  },
  {
   "cell_type": "code",
   "execution_count": 6,
   "metadata": {},
   "outputs": [
    {
     "data": {
      "text/plain": [
       "['__class__',\n",
       " '__delattr__',\n",
       " '__dict__',\n",
       " '__dir__',\n",
       " '__doc__',\n",
       " '__eq__',\n",
       " '__format__',\n",
       " '__ge__',\n",
       " '__getattribute__',\n",
       " '__gt__',\n",
       " '__hash__',\n",
       " '__init__',\n",
       " '__init_subclass__',\n",
       " '__le__',\n",
       " '__lt__',\n",
       " '__module__',\n",
       " '__ne__',\n",
       " '__new__',\n",
       " '__reduce__',\n",
       " '__reduce_ex__',\n",
       " '__repr__',\n",
       " '__setattr__',\n",
       " '__sizeof__',\n",
       " '__str__',\n",
       " '__subclasshook__',\n",
       " '__weakref__',\n",
       " 'x',\n",
       " 'y']"
      ]
     },
     "execution_count": 6,
     "metadata": {},
     "output_type": "execute_result"
    }
   ],
   "source": [
    "dir(v)"
   ]
  },
  {
   "cell_type": "code",
   "execution_count": 7,
   "metadata": {},
   "outputs": [
    {
     "data": {
      "text/plain": [
       "{'x': 5, 'y': 3}"
      ]
     },
     "execution_count": 7,
     "metadata": {},
     "output_type": "execute_result"
    }
   ],
   "source": [
    "v.__dict__ # a normal dictionary"
   ]
  },
  {
   "cell_type": "code",
   "execution_count": 11,
   "metadata": {},
   "outputs": [
    {
     "name": "stdout",
     "output_type": "stream",
     "text": [
      "5\n",
      "1\n",
      "False\n"
     ]
    }
   ],
   "source": [
    "print(v.__dict__['x']) # access value\n",
    "\n",
    "v.__dict__['x'] = 1 # modify value\n",
    "print(v.x)\n",
    "\n",
    "del v.__dict__['x'] # delete value\n",
    "print('x' in v.__dict__)\n",
    "\n",
    "v.__dict__['z'] = 17"
   ]
  },
  {
   "cell_type": "code",
   "execution_count": 12,
   "metadata": {},
   "outputs": [
    {
     "name": "stdout",
     "output_type": "stream",
     "text": [
      "3\n",
      "False\n",
      "None\n"
     ]
    },
    {
     "data": {
      "text/plain": [
       "9"
      ]
     },
     "execution_count": 12,
     "metadata": {},
     "output_type": "execute_result"
    }
   ],
   "source": [
    "print(getattr(v, 'y'))\n",
    "print(hasattr(v, 'x'))\n",
    "delattr(v, 'z')\n",
    "setattr(v, 'x', 9)\n",
    "v.x"
   ]
  },
  {
   "cell_type": "code",
   "execution_count": 15,
   "metadata": {},
   "outputs": [],
   "source": [
    "class Vector:\n",
    "    def __init__(self, **coords):\n",
    "        self.__dict__.update(coords)\n",
    "    \n",
    "    def __repr__(self):\n",
    "        return \"{}({})\".format(\n",
    "            self.__class__.__name__, ', '.join(\"{k}={v}\".format(\n",
    "                k=k, \n",
    "                v=self.__dict__[k])\n",
    "                for k in sorted(self.__dict__.keys())))"
   ]
  },
  {
   "cell_type": "code",
   "execution_count": 16,
   "metadata": {},
   "outputs": [
    {
     "data": {
      "text/plain": [
       "Vector(p=3, q=7)"
      ]
     },
     "execution_count": 16,
     "metadata": {},
     "output_type": "execute_result"
    }
   ],
   "source": [
    "v = Vector(p=3, q=7)\n",
    "v"
   ]
  },
  {
   "cell_type": "code",
   "execution_count": null,
   "metadata": {},
   "outputs": [],
   "source": [
    "class Vector:\n",
    "    def __init__(self, **coords):\n",
    "        private_coords = {'_' + k: v for k, v in coords.items()}\n",
    "        self.__dict__.update(private_coords)\n",
    "    \n",
    "    def __repr__(self):\n",
    "        return \"{}({})\".format(\n",
    "            self.__class__.__name__, ', '.join(\"{k}={v}\".format(\n",
    "                k=k[1:], \n",
    "                v=self.__dict__[k])\n",
    "                for k in sorted(self.__dict__.keys())))"
   ]
  },
  {
   "cell_type": "code",
   "execution_count": 17,
   "metadata": {},
   "outputs": [
    {
     "data": {
      "text/plain": [
       "Vector(p=9, q=3)"
      ]
     },
     "execution_count": 17,
     "metadata": {},
     "output_type": "execute_result"
    }
   ],
   "source": [
    "v = Vector(p=9, q=3)\n",
    "v"
   ]
  },
  {
   "cell_type": "markdown",
   "metadata": {},
   "source": [
    "### customize attribute access\n",
    "\n",
    "- \\__getattr\\__: invoked after requested attribute/property not found by normal lookup\n",
    "- \\__getattribute\\__: invoked instead of normal lookup"
   ]
  },
  {
   "cell_type": "code",
   "execution_count": 18,
   "metadata": {},
   "outputs": [],
   "source": [
    "class Vector:\n",
    "    def __init__(self, **coords):\n",
    "        private_coords = {'_' + k: v for k, v in coords.items()}\n",
    "        self.__dict__.update(private_coords)\n",
    "        \n",
    "    def __getattr__(self, name):\n",
    "        print(\"name = \", name)\n",
    "    \n",
    "    def __repr__(self):\n",
    "        return \"{}({})\".format(\n",
    "            self.__class__.__name__, ', '.join(\"{k}={v}\".format(\n",
    "                k=k[1:], \n",
    "                v=self.__dict__[k])\n",
    "                for k in sorted(self.__dict__.keys())))"
   ]
  },
  {
   "cell_type": "code",
   "execution_count": 19,
   "metadata": {},
   "outputs": [
    {
     "name": "stdout",
     "output_type": "stream",
     "text": [
      "name =  p\n"
     ]
    }
   ],
   "source": [
    "v = Vector(p=3, q=9)\n",
    "v.p"
   ]
  },
  {
   "cell_type": "code",
   "execution_count": 20,
   "metadata": {},
   "outputs": [
    {
     "data": {
      "text/plain": [
       "9"
      ]
     },
     "execution_count": 20,
     "metadata": {},
     "output_type": "execute_result"
    }
   ],
   "source": [
    "v._q"
   ]
  },
  {
   "cell_type": "code",
   "execution_count": 21,
   "metadata": {},
   "outputs": [],
   "source": [
    "class Vector:\n",
    "    def __init__(self, **coords):\n",
    "        private_coords = {'_' + k: v for k, v in coords.items()}\n",
    "        self.__dict__.update(private_coords)\n",
    "        \n",
    "    def __getattr__(self, name):\n",
    "        private_name = '_' + name\n",
    "        return getattr(self, private_name)\n",
    "    \n",
    "    def __repr__(self):\n",
    "        return \"{}({})\".format(\n",
    "            self.__class__.__name__, ', '.join(\"{k}={v}\".format(\n",
    "                k=k[1:], \n",
    "                v=self.__dict__[k])\n",
    "                for k in sorted(self.__dict__.keys())))"
   ]
  },
  {
   "cell_type": "code",
   "execution_count": 22,
   "metadata": {},
   "outputs": [
    {
     "name": "stdout",
     "output_type": "stream",
     "text": [
      "3\n",
      "5\n",
      "3\n"
     ]
    }
   ],
   "source": [
    "v = Vector(p=3, q=9)\n",
    "print(v.p)\n",
    "\n",
    "v.p = 5\n",
    "print(v.p)\n",
    "print(v._p)"
   ]
  },
  {
   "cell_type": "code",
   "execution_count": 23,
   "metadata": {},
   "outputs": [],
   "source": [
    "class Vector:\n",
    "    def __init__(self, **coords):\n",
    "        private_coords = {'_' + k: v for k, v in coords.items()}\n",
    "        self.__dict__.update(private_coords)\n",
    "        \n",
    "    def __getattr__(self, name):\n",
    "        private_name = '_' + name\n",
    "        return getattr(self, private_name)\n",
    "    \n",
    "    def __setattr__(self, name, val):\n",
    "        raise AttributeError(\"Can't set attribute {!r}\".format(name))\n",
    "    \n",
    "    def __repr__(self):\n",
    "        return \"{}({})\".format(\n",
    "            self.__class__.__name__, ', '.join(\"{k}={v}\".format(\n",
    "                k=k[1:], \n",
    "                v=self.__dict__[k])\n",
    "                for k in sorted(self.__dict__.keys())))"
   ]
  },
  {
   "cell_type": "code",
   "execution_count": 24,
   "metadata": {},
   "outputs": [
    {
     "ename": "AttributeError",
     "evalue": "Can't set attribute 'p'",
     "output_type": "error",
     "traceback": [
      "\u001b[1;31m---------------------------------------------------------------------------\u001b[0m",
      "\u001b[1;31mAttributeError\u001b[0m                            Traceback (most recent call last)",
      "\u001b[1;32m<ipython-input-24-395a0dd1a531>\u001b[0m in \u001b[0;36m<module>\u001b[1;34m\u001b[0m\n\u001b[0;32m      1\u001b[0m \u001b[0mv\u001b[0m \u001b[1;33m=\u001b[0m \u001b[0mVector\u001b[0m\u001b[1;33m(\u001b[0m\u001b[0mp\u001b[0m\u001b[1;33m=\u001b[0m\u001b[1;36m4\u001b[0m\u001b[1;33m,\u001b[0m \u001b[0mq\u001b[0m\u001b[1;33m=\u001b[0m\u001b[1;36m8\u001b[0m\u001b[1;33m)\u001b[0m\u001b[1;33m\u001b[0m\u001b[1;33m\u001b[0m\u001b[0m\n\u001b[1;32m----> 2\u001b[1;33m \u001b[0mv\u001b[0m\u001b[1;33m.\u001b[0m\u001b[0mp\u001b[0m \u001b[1;33m=\u001b[0m \u001b[1;36m5\u001b[0m\u001b[1;33m\u001b[0m\u001b[1;33m\u001b[0m\u001b[0m\n\u001b[0m",
      "\u001b[1;32m<ipython-input-23-52d05b257ebc>\u001b[0m in \u001b[0;36m__setattr__\u001b[1;34m(self, name, val)\u001b[0m\n\u001b[0;32m      9\u001b[0m \u001b[1;33m\u001b[0m\u001b[0m\n\u001b[0;32m     10\u001b[0m     \u001b[1;32mdef\u001b[0m \u001b[0m__setattr__\u001b[0m\u001b[1;33m(\u001b[0m\u001b[0mself\u001b[0m\u001b[1;33m,\u001b[0m \u001b[0mname\u001b[0m\u001b[1;33m,\u001b[0m \u001b[0mval\u001b[0m\u001b[1;33m)\u001b[0m\u001b[1;33m:\u001b[0m\u001b[1;33m\u001b[0m\u001b[1;33m\u001b[0m\u001b[0m\n\u001b[1;32m---> 11\u001b[1;33m         \u001b[1;32mraise\u001b[0m \u001b[0mAttributeError\u001b[0m\u001b[1;33m(\u001b[0m\u001b[1;34m\"Can't set attribute {!r}\"\u001b[0m\u001b[1;33m.\u001b[0m\u001b[0mformat\u001b[0m\u001b[1;33m(\u001b[0m\u001b[0mname\u001b[0m\u001b[1;33m)\u001b[0m\u001b[1;33m)\u001b[0m\u001b[1;33m\u001b[0m\u001b[1;33m\u001b[0m\u001b[0m\n\u001b[0m\u001b[0;32m     12\u001b[0m \u001b[1;33m\u001b[0m\u001b[0m\n\u001b[0;32m     13\u001b[0m     \u001b[1;32mdef\u001b[0m \u001b[0m__repr__\u001b[0m\u001b[1;33m(\u001b[0m\u001b[0mself\u001b[0m\u001b[1;33m)\u001b[0m\u001b[1;33m:\u001b[0m\u001b[1;33m\u001b[0m\u001b[1;33m\u001b[0m\u001b[0m\n",
      "\u001b[1;31mAttributeError\u001b[0m: Can't set attribute 'p'"
     ]
    }
   ],
   "source": [
    "v = Vector(p=4, q=8)\n",
    "v.p = 5"
   ]
  },
  {
   "cell_type": "markdown",
   "metadata": {},
   "source": [
    "### override \\__delattr\\__ method"
   ]
  },
  {
   "cell_type": "code",
   "execution_count": 25,
   "metadata": {},
   "outputs": [],
   "source": [
    "class Vector:\n",
    "    def __init__(self, **coords):\n",
    "        private_coords = {'_' + k: v for k, v in coords.items()}\n",
    "        self.__dict__.update(private_coords)\n",
    "        \n",
    "    def __getattr__(self, name):\n",
    "        private_name = '_' + name\n",
    "        return getattr(self, private_name)\n",
    "    \n",
    "    def __setattr__(self, name, val):\n",
    "        raise AttributeError(\"Can't set attribute {!r}\".format(name))\n",
    "        \n",
    "    def __delattr__(self, name, val):\n",
    "        raise AttributeError(\"Can't delete attribute {!r}\".format(name))\n",
    "    \n",
    "    def __repr__(self):\n",
    "        return \"{}({})\".format(\n",
    "            self.__class__.__name__, ', '.join(\"{k}={v}\".format(\n",
    "                k=k[1:], \n",
    "                v=self.__dict__[k])\n",
    "                for k in sorted(self.__dict__.keys())))"
   ]
  },
  {
   "cell_type": "markdown",
   "metadata": {},
   "source": [
    "### direct and indirect access to dunder methods\n",
    "\n",
    "unpythonic: obj.\\__dict\\__[]\\\n",
    "pythonic: vars(obj)\n",
    "\n",
    "unpythonic: collection.\\__len\\__\\\n",
    "pythonic: len(collection)"
   ]
  },
  {
   "cell_type": "code",
   "execution_count": null,
   "metadata": {},
   "outputs": [],
   "source": []
  }
 ],
 "metadata": {
  "kernelspec": {
   "display_name": "Python 3",
   "language": "python",
   "name": "python3"
  },
  "language_info": {
   "codemirror_mode": {
    "name": "ipython",
    "version": 3
   },
   "file_extension": ".py",
   "mimetype": "text/x-python",
   "name": "python",
   "nbconvert_exporter": "python",
   "pygments_lexer": "ipython3",
   "version": "3.7.4"
  }
 },
 "nbformat": 4,
 "nbformat_minor": 2
}
