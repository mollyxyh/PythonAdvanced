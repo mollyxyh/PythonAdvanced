{
 "cells": [
  {
   "cell_type": "markdown",
   "metadata": {},
   "source": [
    "### Bitwise operation on integers\n",
    "\n",
    "- Bitwise and &\n",
    "- Bitwise or |\n",
    "- Bitwise exclusive or (XOR) ^\n",
    "- Bitwise compliment (not) ~\n",
    "- left shift <<\n",
    "- right shit >>"
   ]
  },
  {
   "cell_type": "code",
   "execution_count": 1,
   "metadata": {},
   "outputs": [
    {
     "name": "stdout",
     "output_type": "stream",
     "text": [
      "240\n",
      "0b11110000\n"
     ]
    }
   ],
   "source": [
    "print(0b11110000)\n",
    "\n",
    "print(bin(240))"
   ]
  },
  {
   "cell_type": "code",
   "execution_count": 2,
   "metadata": {},
   "outputs": [
    {
     "data": {
      "text/plain": [
       "'0b11000011'"
      ]
     },
     "execution_count": 2,
     "metadata": {},
     "output_type": "execute_result"
    }
   ],
   "source": [
    "bin(0b11100100 ^ 0b00100111)"
   ]
  },
  {
   "cell_type": "code",
   "execution_count": 4,
   "metadata": {},
   "outputs": [
    {
     "data": {
      "text/plain": [
       "'-0b11110001'"
      ]
     },
     "execution_count": 4,
     "metadata": {},
     "output_type": "execute_result"
    }
   ],
   "source": [
    "bin(~0b11110000)"
   ]
  },
  {
   "cell_type": "code",
   "execution_count": 5,
   "metadata": {},
   "outputs": [
    {
     "name": "stdout",
     "output_type": "stream",
     "text": [
      "6\n",
      "8\n"
     ]
    }
   ],
   "source": [
    "print(int(32).bit_length())\n",
    "\n",
    "print(int(240).bit_length())"
   ]
  },
  {
   "cell_type": "markdown",
   "metadata": {},
   "source": [
    "#### bytearray\n",
    "\n",
    "- elements are bytes (integers 0-255)\n",
    "- sequence\n",
    "- mutable\n",
    "- similar methods to list and bytes"
   ]
  },
  {
   "cell_type": "code",
   "execution_count": 9,
   "metadata": {},
   "outputs": [
    {
     "name": "stdout",
     "output_type": "stream",
     "text": [
      "bytearray(b'The quick brown fox jumps over the lazy dog.')\n",
      "bytearray(b'The quick brown fox jumps over the lazy god.')\n"
     ]
    }
   ],
   "source": [
    "pangram = bytearray(b'The quick brown fox')\n",
    "pangram.extend(b' jumps over the lazy dog.')\n",
    "print(pangram)\n",
    "\n",
    "pangram[40:43] = b'god'\n",
    "print(pangram)"
   ]
  },
  {
   "cell_type": "code",
   "execution_count": 10,
   "metadata": {},
   "outputs": [
    {
     "data": {
      "text/plain": [
       "bytearray(b'THE QUICK BROWN FOX JUMPS OVER THE LAZY GOD.')"
      ]
     },
     "execution_count": 10,
     "metadata": {},
     "output_type": "execute_result"
    }
   ],
   "source": [
    "pangram.upper()"
   ]
  },
  {
   "cell_type": "code",
   "execution_count": 11,
   "metadata": {},
   "outputs": [
    {
     "data": {
      "text/plain": [
       "[bytearray(b'The'),\n",
       " bytearray(b'quick'),\n",
       " bytearray(b'brown'),\n",
       " bytearray(b'fox'),\n",
       " bytearray(b'jumps'),\n",
       " bytearray(b'over'),\n",
       " bytearray(b'the'),\n",
       " bytearray(b'lazy'),\n",
       " bytearray(b'god.')]"
      ]
     },
     "execution_count": 11,
     "metadata": {},
     "output_type": "execute_result"
    }
   ],
   "source": [
    "words = pangram.split()\n",
    "\n",
    "words"
   ]
  },
  {
   "cell_type": "code",
   "execution_count": 12,
   "metadata": {},
   "outputs": [
    {
     "data": {
      "text/plain": [
       "bytearray(b'The quick brown fox jumps over the lazy god.')"
      ]
     },
     "execution_count": 12,
     "metadata": {},
     "output_type": "execute_result"
    }
   ],
   "source": [
    "bytearray(b' ').join(words)"
   ]
  }
 ],
 "metadata": {
  "kernelspec": {
   "display_name": "Python 3",
   "language": "python",
   "name": "python3"
  },
  "language_info": {
   "codemirror_mode": {
    "name": "ipython",
    "version": 3
   },
   "file_extension": ".py",
   "mimetype": "text/x-python",
   "name": "python",
   "nbconvert_exporter": "python",
   "pygments_lexer": "ipython3",
   "version": "3.7.4"
  }
 },
 "nbformat": 4,
 "nbformat_minor": 2
}
