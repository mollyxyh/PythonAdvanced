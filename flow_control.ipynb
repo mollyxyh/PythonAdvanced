{
 "cells": [
  {
   "cell_type": "markdown",
   "metadata": {},
   "source": [
    "### while else clause\n",
    "\n",
    "only useful when break clause is present"
   ]
  },
  {
   "cell_type": "code",
   "execution_count": null,
   "metadata": {},
   "outputs": [],
   "source": [
    "if condition:\n",
    "    execute_condition_is_true()\n",
    "else:\n",
    "    execute_condition_is_false()"
   ]
  },
  {
   "cell_type": "code",
   "execution_count": null,
   "metadata": {},
   "outputs": [],
   "source": [
    "while condition:\n",
    "    execute_condition_is_true()\n",
    "else:\n",
    "    execute_condition_is_false()\n",
    "    \n",
    "# which would be equivalent to\n",
    "while condition:\n",
    "    execute_condition_is_true()\n",
    "execute_condition_is_false()"
   ]
  },
  {
   "cell_type": "code",
   "execution_count": null,
   "metadata": {},
   "outputs": [],
   "source": [
    "while condition:\n",
    "    flag = execute_condition_is_true()\n",
    "    if flag:\n",
    "        break\n",
    "        \n",
    "execute_condition_is_false() # which will be executed whether condition is True or False"
   ]
  },
  {
   "cell_type": "code",
   "execution_count": null,
   "metadata": {},
   "outputs": [],
   "source": [
    "# a fix but with redundant test\n",
    "while condition:\n",
    "    flag = execute_condition_is_true()\n",
    "    if flag:\n",
    "        break\n",
    "        \n",
    "if not condition:        \n",
    "    execute_condition_is_false()"
   ]
  },
  {
   "cell_type": "code",
   "execution_count": null,
   "metadata": {},
   "outputs": [],
   "source": [
    "# a fix without redundant test\n",
    "while condition:\n",
    "    flag = execute_condition_is_true()\n",
    "    if flag:\n",
    "        break        \n",
    "else: # no break       \n",
    "    execute_condition_is_false()"
   ]
  },
  {
   "cell_type": "code",
   "execution_count": 1,
   "metadata": {},
   "outputs": [],
   "source": [
    "import operator"
   ]
  },
  {
   "cell_type": "code",
   "execution_count": 2,
   "metadata": {},
   "outputs": [],
   "source": [
    "def is_comment(item):\n",
    "    return isinstance(item, str) and item.startswith('#')"
   ]
  },
  {
   "cell_type": "code",
   "execution_count": 3,
   "metadata": {},
   "outputs": [],
   "source": [
    "def execute(program):\n",
    "    while program:\n",
    "        item = program.pop()\n",
    "        if not is_comment(item):\n",
    "            program.append(item)\n",
    "            break\n",
    "    else: # no break\n",
    "        print(\"Empty program\")\n",
    "        return\n",
    "\n",
    "    pending = []\n",
    "    while program:\n",
    "        item = program.pop()\n",
    "        if callable(item):\n",
    "            try:\n",
    "                result = item(*pending)\n",
    "            except Exception as e:\n",
    "                print('error:', e)\n",
    "                break\n",
    "                \n",
    "            program.append(result)\n",
    "            pending.clear()\n",
    "        else:\n",
    "            pending.append(item)\n",
    "            \n",
    "    else:\n",
    "        print('Program successful!')\n",
    "        print('Result:', pending)\n",
    "    \n",
    "    print('Finished!')"
   ]
  },
  {
   "cell_type": "code",
   "execution_count": 4,
   "metadata": {},
   "outputs": [
    {
     "name": "stdout",
     "output_type": "stream",
     "text": [
      "Program successful!\n",
      "Result: [21]\n",
      "Finished!\n"
     ]
    }
   ],
   "source": [
    "program = list(reversed(('# A short stack program to add', \n",
    "                         '# and multiply some constants',\n",
    "                         5,\n",
    "                         2,\n",
    "                         operator.add,\n",
    "                         3,\n",
    "                         operator.mul\n",
    "                        )))\n",
    "\n",
    "execute(program)"
   ]
  },
  {
   "cell_type": "markdown",
   "metadata": {},
   "source": [
    "### for else clause\n",
    "\n",
    "- mostly useful in a searching algorithm\n",
    "- else clause useful as not-found clause"
   ]
  },
  {
   "cell_type": "code",
   "execution_count": null,
   "metadata": {},
   "outputs": [],
   "source": [
    "for item in iterable:\n",
    "    if match(item):\n",
    "        result = item\n",
    "        break\n",
    "else: # no break\n",
    "    # no match found\n",
    "    result = None\n",
    "    \n",
    "# always come here\n",
    "print(result)"
   ]
  },
  {
   "cell_type": "code",
   "execution_count": 5,
   "metadata": {},
   "outputs": [
    {
     "name": "stdout",
     "output_type": "stream",
     "text": [
      "[2, 36, 25, 9] contains 36, which is a multiple of 12\n"
     ]
    }
   ],
   "source": [
    "items = [2, 36, 25, 9]\n",
    "divisor = 12\n",
    "\n",
    "for item in items:\n",
    "    if item % divisor == 0:\n",
    "        found = item\n",
    "        break\n",
    "else:\n",
    "    items.append(divisor)\n",
    "    found = divisor\n",
    "    \n",
    "print(\"{items} contains {found}, which is a multiple of {divisor}\".format(**locals()))"
   ]
  },
  {
   "cell_type": "markdown",
   "metadata": {},
   "source": [
    "### try else clause\n",
    "\n",
    "- else clause is a success clause\n",
    "- narrow down the scope of try block\n",
    "- clarify about from where exceptions are raised"
   ]
  },
  {
   "cell_type": "code",
   "execution_count": null,
   "metadata": {},
   "outputs": [],
   "source": [
    "try:\n",
    "    do_something()\n",
    "except ValueError:\n",
    "    # ValueError caught and handled\n",
    "    handle_value_error()\n",
    "else:\n",
    "    # no exception was raised\n",
    "    # we know do_something succeeded\n",
    "    do_something_else()"
   ]
  },
  {
   "cell_type": "code",
   "execution_count": null,
   "metadata": {},
   "outputs": [],
   "source": [
    "try:\n",
    "    do_something()\n",
    "    do_something_else()\n",
    "except ValueError: # which caused ValueError? Ambiguous!!!\n",
    "    # ValueError caught and handled\n",
    "    handle_value_error()"
   ]
  },
  {
   "cell_type": "code",
   "execution_count": null,
   "metadata": {},
   "outputs": [],
   "source": [
    "try:\n",
    "    f = open(filename, 'r')\n",
    "except OSError:\n",
    "    print('File could not be opened')\n",
    "else:\n",
    "    # now we are sure the file is open\n",
    "    print(\"# of lines:\", sum(1 for line in f))\n",
    "    f.close()"
   ]
  },
  {
   "cell_type": "markdown",
   "metadata": {},
   "source": [
    "### Emulating switch statements\n",
    "\n",
    "The switch statement in C\n",
    "\n",
    "switch (menu_option) {\\\n",
    "    case 1: single_player(); break;\\\n",
    "    case 2: multi_player(); break;\\\n",
    "    case 3: load_game(); break;\\\n",
    "    case 4: save_game(); break\\\n",
    "    case 5: reset_high_score(); break;\\\n",
    "    default:\\\n",
    "        printf('No such option');\\\n",
    "        break;\\\n",
    "}\n",
    "\n",
    "There is no switch construction in Python.\n",
    "1. Option 1: if ... elif ... elif ... else; tedious to write and error prone\n",
    "2. Option 2: mapping of callables"
   ]
  },
  {
   "cell_type": "code",
   "execution_count": 6,
   "metadata": {},
   "outputs": [],
   "source": [
    "def play():\n",
    "    \n",
    "    position = (0, 0)\n",
    "    \n",
    "    while position:\n",
    "        if position == (0, 0):\n",
    "            print('You are in a maze of twisted passages, all alike')\n",
    "        elif position == (1, 0):\n",
    "            print('You are on a road in a dark forest. To the north you can see a tower')\n",
    "        elif position == (1, 1):\n",
    "            print('There is a tall tower there, with no obvious door. A path leads east')\n",
    "        else:\n",
    "            print('There is nothing here')"
   ]
  },
  {
   "cell_type": "code",
   "execution_count": 8,
   "metadata": {},
   "outputs": [],
   "source": [
    "def play():\n",
    "    \n",
    "    position = (0, 0)\n",
    "\n",
    "    locations = {\n",
    "    (0, 0): lambda: print('You are in a maze of twisted passages, all alike'),\n",
    "    (1, 0): lambda: print('You are on a road in a dark forest. To the north you can see a tower'),\n",
    "    (1, 1): lambda: print('There is a tall tower there, with no obvious door. A path leads east'),\n",
    "}\n",
    "    \n",
    "    try:\n",
    "        location_action = locations[position]\n",
    "    except KeyError:\n",
    "        print('There is nothing here')\n",
    "    else:\n",
    "        location_action()"
   ]
  },
  {
   "cell_type": "markdown",
   "metadata": {},
   "source": [
    "### Dispatching on type\n",
    "\n",
    "- functions selected based on type of arguments\n",
    "- methods: called implementation based on type of self\n",
    "- regular functions: switch-emulation is ungainly\n",
    "- use the @singledispatch decorator\n",
    "\n",
    "Functions which support multiple implementation depending on the type of arguments are called generic functions. And each version of generic functions is referred to as an overload of the function. The act of providing another version of generic function for different argument types is called overloading the function. \n",
    "\n",
    "Do not use single dispatch on methods as single dispatch is based only on the type of the first argument and self is actually the first argument. The solution is to move the generic function out of the class.\n",
    "\n",
    "Generic functions are functions defined for polymorphism."
   ]
  },
  {
   "cell_type": "code",
   "execution_count": 9,
   "metadata": {},
   "outputs": [],
   "source": [
    "from functools import singledispatch\n",
    "\n",
    "@singledispatch\n",
    "def fun(arg, verbose=False): # generic function\n",
    "    if verbose:\n",
    "        print(\"Let me just say,\", end=' ')\n",
    "    print(arg)\n",
    "    \n",
    "@fun.register(int)\n",
    "def _(arg, verbose=False):\n",
    "    if verbose:\n",
    "        print(\"Strength in numbers\")\n",
    "    print(arg)\n",
    "    \n",
    "@fun.register(list)\n",
    "def _(arg, verbose=False):\n",
    "    if verbose:\n",
    "        print(\"Enumerate this!\")\n",
    "    for i, elem in enumerate(arg):\n",
    "        print(i, elem)"
   ]
  },
  {
   "cell_type": "code",
   "execution_count": 12,
   "metadata": {},
   "outputs": [
    {
     "ename": "NameError",
     "evalue": "name 'Circle' is not defined",
     "output_type": "error",
     "traceback": [
      "\u001b[1;31m---------------------------------------------------------------------------\u001b[0m",
      "\u001b[1;31mNameError\u001b[0m                                 Traceback (most recent call last)",
      "\u001b[1;32m<ipython-input-12-1f09f1861b0a>\u001b[0m in \u001b[0;36m<module>\u001b[1;34m\u001b[0m\n\u001b[0;32m      3\u001b[0m     \u001b[0mprint\u001b[0m\u001b[1;33m(\u001b[0m\u001b[1;34m\"Dont know how to draw {!r}\"\u001b[0m\u001b[1;33m.\u001b[0m\u001b[0mformat\u001b[0m\u001b[1;33m(\u001b[0m\u001b[0mshape\u001b[0m\u001b[1;33m)\u001b[0m\u001b[1;33m)\u001b[0m\u001b[1;33m\u001b[0m\u001b[1;33m\u001b[0m\u001b[0m\n\u001b[0;32m      4\u001b[0m \u001b[1;33m\u001b[0m\u001b[0m\n\u001b[1;32m----> 5\u001b[1;33m \u001b[1;33m@\u001b[0m\u001b[0mdraw\u001b[0m\u001b[1;33m.\u001b[0m\u001b[0mregister\u001b[0m\u001b[1;33m(\u001b[0m\u001b[0mCircle\u001b[0m\u001b[1;33m)\u001b[0m\u001b[1;33m\u001b[0m\u001b[1;33m\u001b[0m\u001b[0m\n\u001b[0m\u001b[0;32m      6\u001b[0m \u001b[1;32mdef\u001b[0m \u001b[0m_\u001b[0m\u001b[1;33m(\u001b[0m\u001b[0mshape\u001b[0m\u001b[1;33m)\u001b[0m\u001b[1;33m:\u001b[0m\u001b[1;33m\u001b[0m\u001b[1;33m\u001b[0m\u001b[0m\n\u001b[0;32m      7\u001b[0m     \u001b[0mprint\u001b[0m\u001b[1;33m(\u001b[0m\u001b[1;34m\"Draw a \"\u001b[0m\u001b[1;33m,\u001b[0m \u001b[1;34m'circle'\u001b[0m\u001b[1;33m)\u001b[0m\u001b[1;33m\u001b[0m\u001b[1;33m\u001b[0m\u001b[0m\n",
      "\u001b[1;31mNameError\u001b[0m: name 'Circle' is not defined"
     ]
    }
   ],
   "source": [
    "@singledispatch\n",
    "def draw(shape):\n",
    "    print(\"Dont know how to draw {!r}\".format(shape))\n",
    "    \n",
    "@draw.register(Circle)\n",
    "def _(shape):\n",
    "    print(\"Draw a \", 'circle')\n",
    "    \n",
    "@draw.register(Parallelogram)\n",
    "def _(shape):\n",
    "    print(\"Draw a \", 'parallelogram')\n",
    "\n",
    "@draw.register(Triangle)\n",
    "def _(shape):\n",
    "    print(\"xxxx\")"
   ]
  },
  {
   "cell_type": "code",
   "execution_count": null,
   "metadata": {},
   "outputs": [],
   "source": []
  }
 ],
 "metadata": {
  "kernelspec": {
   "display_name": "Python 3",
   "language": "python",
   "name": "python3"
  },
  "language_info": {
   "codemirror_mode": {
    "name": "ipython",
    "version": 3
   },
   "file_extension": ".py",
   "mimetype": "text/x-python",
   "name": "python",
   "nbconvert_exporter": "python",
   "pygments_lexer": "ipython3",
   "version": "3.7.4"
  }
 },
 "nbformat": 4,
 "nbformat_minor": 2
}
